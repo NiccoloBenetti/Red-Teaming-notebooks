{
 "cells": [
  {
   "cell_type": "markdown",
   "id": "b817d75c",
   "metadata": {},
   "source": [
    "## 1 - Create and connect your storage account\n",
    "Create and connect your storage account to your Azure AI Foundry project at the resource level. You can use the bicep template (`main.bicep`). To do so, launch the following scripts:"
   ]
  },
  {
   "cell_type": "code",
   "execution_count": null,
   "id": "438acdf5",
   "metadata": {
    "vscode": {
     "languageId": "powershell"
    }
   },
   "outputs": [],
   "source": [
    "az login"
   ]
  },
  {
   "cell_type": "code",
   "execution_count": null,
   "id": "93358363",
   "metadata": {
    "vscode": {
     "languageId": "powershell"
    }
   },
   "outputs": [],
   "source": [
    "az deployment group create \\\n",
    "  --resource-group <RESOURCE GROUP NAME> \\\n",
    "  --template-file infra/main.bicep \\\n",
    "  --parameters aiFoundryName='<FOUNDRY RESOURCE NAME>' newOrExisting='new' location='<LOCATION>'"
   ]
  },
  {
   "cell_type": "markdown",
   "id": "f04234c2",
   "metadata": {},
   "source": [
    "## 2 - Make sure the connected storage account has access to all projects."
   ]
  },
  {
   "cell_type": "markdown",
   "id": "4fe39585",
   "metadata": {},
   "source": [
    "## 3 - Give the necessary permissions\n",
    "If you connected your storage account with Microsoft Entra ID, make sure to give MSI (Microsoft Identity) permissions for Storage Blob Data Owner to both your account and Foundry project resource in Azure portal."
   ]
  }
 ],
 "metadata": {
  "language_info": {
   "name": "python"
  }
 },
 "nbformat": 4,
 "nbformat_minor": 5
}
