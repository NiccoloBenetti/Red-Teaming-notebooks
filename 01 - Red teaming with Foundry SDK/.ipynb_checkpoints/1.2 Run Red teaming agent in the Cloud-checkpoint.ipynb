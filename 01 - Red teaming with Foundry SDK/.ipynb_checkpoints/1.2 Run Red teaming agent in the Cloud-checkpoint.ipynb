{
 "cells": [
  {
   "cell_type": "markdown",
   "id": "1630c8a9",
   "metadata": {},
   "source": [
    "# 1.2 Run Red teaming agent in the Cloud"
   ]
  },
  {
   "cell_type": "markdown",
   "id": "049e05d7",
   "metadata": {},
   "source": [
    "## Notes\n",
    "- You must use a Foundry project for this feature. A hub based project isn't supported.\n",
    "- Running the AI Red Teaming Agent in the cloud currently only supports Azure OpenAI model deployments in your Azure AI Foundry project as a target."
   ]
  },
  {
   "cell_type": "markdown",
   "id": "ab59387a",
   "metadata": {},
   "source": [
    "## Initial setup\n",
    "If this is your first time running evaluations or AI red teaming runs on your Azure AI Foundry project, you might need to do a few additional setup steps. You can find these steps in the file `/infra/CloudRedTeaming-Guide.ipynb`."
   ]
  },
  {
   "cell_type": "markdown",
   "id": "04b03ec1",
   "metadata": {},
   "source": [
    "## Load environment variables\n"
   ]
  },
  {
   "cell_type": "code",
   "execution_count": null,
   "id": "3d2d80a8",
   "metadata": {},
   "outputs": [],
   "source": [
    "import os\n",
    "from dotenv import load_dotenv\n",
    "\n",
    "if not load_dotenv(\"./../../config/credentials_my.env\", override=True):\n",
    "    print(\"Environment variables not loaded, cell execution stopped\")\n",
    "else:\n",
    "    print(\"Environment variables have been loaded ;-)\")\n",
    "\n",
    "endpoint = os.environ[\"AZURE_PJ_PROJECT_ENDPOINT\"] \n",
    "model_endpoint = os.environ[\"AZURE_PJ_MODEL_ENDPOINT\"]\n",
    "model_api_key= os.environ[\"AZURE_PJ_MODEL_API_KEY\"]\n",
    "model_deployment_name = os.environ[\"AZURE_PJ_MODEL_NAME\"]\n",
    "\n",
    "print(\"Project Endpoint:\", endpoint)\n",
    "print(\"Model Endpoint:\", model_endpoint) \n",
    "print(\"Model Deployment Name:\", model_deployment_name)\n",
    "print(\"Model API Key:\", model_api_key)   "
   ]
  },
  {
   "cell_type": "markdown",
   "id": "32ba75aa-391a-4bd9-b655-0e2d477c9f02",
   "metadata": {},
   "source": [
    "## Azure Login\n",
    "Please change the format from Raw to \"Code\" just if needed"
   ]
  },
  {
   "cell_type": "raw",
   "id": "0895a360-aaa7-4173-842a-d39833a7fb05",
   "metadata": {},
   "source": [
    "import subprocess, platform\n",
    "\n",
    "if platform.system() == \"Windows\":\n",
    "    print(\"Check che code in the Command Shell within the jupyter notebook trace\")\n",
    "    os.system(f\"az login --tenant {os.getenv(\"AZURE_TENANT_ID\")} --use-device-code\")\n",
    "else:\n",
    "    # On Linux/macOS\n",
    "    az_command = [\"az\", \"login\", \"--tenant\", os.getenv(\"AZURE_TENANT_ID\"),\"--use-device-code\"]\n",
    "\n",
    "    result = subprocess.run(\n",
    "        az_command,\n",
    "        stdout=subprocess.PIPE,\n",
    "        stderr=subprocess.STDOUT,\n",
    "        text=True\n",
    "    )\n",
    "    print(result.stdout)\n",
    "\n",
    "os.system(f\"az account set --subscription {os.getenv(\"AZURE_SUBSCRIPTION_ID\")}\")"
   ]
  },
  {
   "cell_type": "markdown",
   "id": "24f2521e",
   "metadata": {},
   "source": [
    "## Create an AI red teaming run"
   ]
  },
  {
   "cell_type": "code",
   "execution_count": null,
   "id": "2d418b08",
   "metadata": {},
   "outputs": [],
   "source": [
    "from azure.identity import DefaultAzureCredential\n",
    "from azure.ai.projects import AIProjectClient\n",
    "from azure.ai.projects.models import (\n",
    "    RedTeam,\n",
    "    AzureOpenAIModelConfiguration,\n",
    "    AttackStrategy,\n",
    "    RiskCategory,\n",
    ")\n",
    "\n",
    "with AIProjectClient(\n",
    "  endpoint=endpoint,\n",
    "  credential=DefaultAzureCredential(),\n",
    ") as project_client:\n",
    "\n",
    "    # Create target configuration for testing an Azure OpenAI model\n",
    "    target_config = AzureOpenAIModelConfiguration(\n",
    "        model_deployment_name= \"RedTeaming-OpenAI/\" + model_deployment_name,\n",
    "    )\n",
    "\n",
    "    print(\"Target Configuration:\", target_config.model_deployment_name)\n",
    "\n",
    "    # Instantiate the AI Red Teaming Agent\n",
    "    red_team_agent = RedTeam(\n",
    "        attack_strategies=[AttackStrategy.BASE64],\n",
    "        risk_categories=[RiskCategory.VIOLENCE],\n",
    "        display_name=\"red-team-cloud-run\", \n",
    "        target=target_config,\n",
    "    )\n",
    "\n",
    "\n",
    "    # Create and run the red teaming scan\n",
    "    red_team_response = project_client.red_teams.create(red_team=red_team_agent,  headers={\n",
    "        \"endpoint\": endpoint,\n",
    "        \"api-version\": \"2024-12-01-preview\",   \n",
    "    },)\n"
   ]
  },
  {
   "cell_type": "markdown",
   "id": "92717e8e",
   "metadata": {},
   "source": [
    "## Get an AI red teaming run"
   ]
  },
  {
   "cell_type": "code",
   "execution_count": null,
   "id": "2490b5ca",
   "metadata": {},
   "outputs": [],
   "source": [
    "# Use the name returned by the create operation for the get call\n",
    "get_red_team_response = project_client.red_teams.get(name=red_team_response.name)\n",
    "print(f\"Red Team scan status: {get_red_team_response.status}\")"
   ]
  },
  {
   "cell_type": "markdown",
   "id": "5903120d",
   "metadata": {},
   "source": [
    "## List all AI red teaming runs"
   ]
  },
  {
   "cell_type": "code",
   "execution_count": null,
   "id": "8eeaf884",
   "metadata": {},
   "outputs": [],
   "source": [
    "for scan in project_client.red_teams.list():\n",
    "  print(f\"Found scan: {scan.name}, Status: {scan.status}\")"
   ]
  }
 ],
 "metadata": {
  "kernelspec": {
   "display_name": "Python 3 (ipykernel)",
   "language": "python",
   "name": "python3"
  },
  "language_info": {
   "codemirror_mode": {
    "name": "ipython",
    "version": 3
   },
   "file_extension": ".py",
   "mimetype": "text/x-python",
   "name": "python",
   "nbconvert_exporter": "python",
   "pygments_lexer": "ipython3",
   "version": "3.12.11"
  }
 },
 "nbformat": 4,
 "nbformat_minor": 5
}
