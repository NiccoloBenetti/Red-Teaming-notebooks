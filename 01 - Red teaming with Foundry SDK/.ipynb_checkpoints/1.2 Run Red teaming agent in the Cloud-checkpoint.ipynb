{
 "cells": [
  {
   "cell_type": "markdown",
   "id": "1630c8a9",
   "metadata": {},
   "source": [
    "# 1.2 Run Red teaming agent in the Cloud"
   ]
  },
  {
   "cell_type": "markdown",
   "id": "049e05d7",
   "metadata": {},
   "source": [
    "## Notes\n",
    "- You must use a Foundry project for this feature. A hub based project isn't supported.\n",
    "- Running the AI Red Teaming Agent in the cloud currently only supports Azure OpenAI model deployments in your Azure AI Foundry project as a target."
   ]
  },
  {
   "cell_type": "markdown",
   "id": "ab59387a",
   "metadata": {},
   "source": [
    "## Initial setup\n",
    "If this is your first time running evaluations or AI red teaming runs on your Azure AI Foundry project, you might need to do a few additional setup steps. You can find these steps in the file `/infra/CloudRedTeaming-Guide.ipynb`."
   ]
  },
  {
   "cell_type": "markdown",
   "id": "04b03ec1",
   "metadata": {},
   "source": [
    "## Load environment variables\n"
   ]
  },
  {
   "cell_type": "code",
   "execution_count": 1,
   "id": "3d2d80a8",
   "metadata": {},
   "outputs": [
    {
     "name": "stdout",
     "output_type": "stream",
     "text": [
      "Environment variables have been loaded ;-)\n",
      "Project Endpoint: https://aiservicesiyva.services.ai.azure.com/api/projects/newstrdproject01iyva\n",
      "Model Endpoint: https://aiservicesiyva.cognitiveservices.azure.com/openai/deployments/gpt-4o/chat/completions?api-version=2025-01-01-preview\n",
      "Model Deployment Name: gpt-4o\n",
      "Model API Key: Fcvt2F1qnuJbFqqEBhaYEgvGwffJTgnNPKy902du893jlsEiaS0zJQQJ99BFACfhMk5XJ3w3AAAAACOGnd3a\n"
     ]
    }
   ],
   "source": [
    "import os\n",
    "from dotenv import load_dotenv\n",
    "\n",
    "if not load_dotenv(\"./../../config/credentials_my.env\", override=True):\n",
    "    print(\"Environment variables not loaded, cell execution stopped\")\n",
    "else:\n",
    "    print(\"Environment variables have been loaded ;-)\")\n",
    "\n",
    "endpoint = os.environ[\"AZURE_PJ_PROJECT_ENDPOINT\"] \n",
    "model_endpoint = os.environ[\"AZURE_PJ_MODEL_ENDPOINT\"]\n",
    "model_api_key= os.environ[\"AZURE_PJ_MODEL_API_KEY\"]\n",
    "model_deployment_name = os.environ[\"AZURE_PJ_MODEL_NAME\"]\n",
    "\n",
    "print(\"Project Endpoint:\", endpoint)\n",
    "print(\"Model Endpoint:\", model_endpoint) \n",
    "print(\"Model Deployment Name:\", model_deployment_name)\n",
    "print(\"Model API Key:\", model_api_key)   "
   ]
  },
  {
   "cell_type": "markdown",
   "id": "32ba75aa-391a-4bd9-b655-0e2d477c9f02",
   "metadata": {},
   "source": [
    "## Azure Login\n",
    "Please change the format from Raw to \"Code\" just if needed"
   ]
  },
  {
   "cell_type": "raw",
   "id": "0895a360-aaa7-4173-842a-d39833a7fb05",
   "metadata": {},
   "source": [
    "import subprocess, platform\n",
    "\n",
    "if platform.system() == \"Windows\":\n",
    "    print(\"Check che code in the Command Shell within the jupyter notebook trace\")\n",
    "    os.system(f\"az login --tenant {os.getenv(\"AZURE_TENANT_ID\")} --use-device-code\")\n",
    "else:\n",
    "    # On Linux/macOS\n",
    "    az_command = [\"az\", \"login\", \"--tenant\", os.getenv(\"AZURE_TENANT_ID\"),\"--use-device-code\"]\n",
    "\n",
    "    result = subprocess.run(\n",
    "        az_command,\n",
    "        stdout=subprocess.PIPE,\n",
    "        stderr=subprocess.STDOUT,\n",
    "        text=True\n",
    "    )\n",
    "    print(result.stdout)\n",
    "\n",
    "os.system(f\"az account set --subscription {os.getenv(\"AZURE_SUBSCRIPTION_ID\")}\")"
   ]
  },
  {
   "cell_type": "markdown",
   "id": "24f2521e",
   "metadata": {},
   "source": [
    "## Create an AI red teaming run"
   ]
  },
  {
   "cell_type": "code",
   "execution_count": 2,
   "id": "2d418b08",
   "metadata": {},
   "outputs": [
    {
     "name": "stdout",
     "output_type": "stream",
     "text": [
      "Target Configuration: RedTeaming-OpenAI/gpt-4o\n"
     ]
    },
    {
     "ename": "HttpResponseError",
     "evalue": "(UserError) RedTeam target is invalid\nCode: UserError\nMessage: RedTeam target is invalid",
     "output_type": "error",
     "traceback": [
      "\u001b[31m---------------------------------------------------------------------------\u001b[39m",
      "\u001b[31mHttpResponseError\u001b[39m                         Traceback (most recent call last)",
      "\u001b[36mCell\u001b[39m\u001b[36m \u001b[39m\u001b[32mIn[2]\u001b[39m\u001b[32m, line 32\u001b[39m\n\u001b[32m     23\u001b[39m red_team_agent = RedTeam(\n\u001b[32m     24\u001b[39m     attack_strategies=[AttackStrategy.BASE64],\n\u001b[32m     25\u001b[39m     risk_categories=[RiskCategory.VIOLENCE],\n\u001b[32m     26\u001b[39m     display_name=\u001b[33m\"\u001b[39m\u001b[33mred-team-cloud-run\u001b[39m\u001b[33m\"\u001b[39m, \n\u001b[32m     27\u001b[39m     target=target_config,\n\u001b[32m     28\u001b[39m )\n\u001b[32m     31\u001b[39m \u001b[38;5;66;03m# Create and run the red teaming scan\u001b[39;00m\n\u001b[32m---> \u001b[39m\u001b[32m32\u001b[39m red_team_response = \u001b[43mproject_client\u001b[49m\u001b[43m.\u001b[49m\u001b[43mred_teams\u001b[49m\u001b[43m.\u001b[49m\u001b[43mcreate\u001b[49m\u001b[43m(\u001b[49m\u001b[43mred_team\u001b[49m\u001b[43m=\u001b[49m\u001b[43mred_team_agent\u001b[49m\u001b[43m,\u001b[49m\u001b[43m  \u001b[49m\u001b[43mheaders\u001b[49m\u001b[43m=\u001b[49m\u001b[43m{\u001b[49m\n\u001b[32m     33\u001b[39m \u001b[43m    \u001b[49m\u001b[33;43m\"\u001b[39;49m\u001b[33;43mendpoint\u001b[39;49m\u001b[33;43m\"\u001b[39;49m\u001b[43m:\u001b[49m\u001b[43m \u001b[49m\u001b[43mendpoint\u001b[49m\u001b[43m,\u001b[49m\n\u001b[32m     34\u001b[39m \u001b[43m    \u001b[49m\u001b[33;43m\"\u001b[39;49m\u001b[33;43mapi-version\u001b[39;49m\u001b[33;43m\"\u001b[39;49m\u001b[43m:\u001b[49m\u001b[43m \u001b[49m\u001b[33;43m\"\u001b[39;49m\u001b[33;43m2024-12-01-preview\u001b[39;49m\u001b[33;43m\"\u001b[39;49m\u001b[43m,\u001b[49m\u001b[43m   \u001b[49m\n\u001b[32m     35\u001b[39m \u001b[43m\u001b[49m\u001b[43m}\u001b[49m\u001b[43m,\u001b[49m\u001b[43m)\u001b[49m\n",
      "\u001b[36mFile \u001b[39m\u001b[32mD:\\ProgramData\\miniconda3\\envs\\redTA-env\\Lib\\site-packages\\azure\\core\\tracing\\decorator.py:119\u001b[39m, in \u001b[36mdistributed_trace.<locals>.decorator.<locals>.wrapper_use_tracer\u001b[39m\u001b[34m(*args, **kwargs)\u001b[39m\n\u001b[32m    117\u001b[39m \u001b[38;5;66;03m# If tracing is disabled globally and user didn't explicitly enable it, don't trace.\u001b[39;00m\n\u001b[32m    118\u001b[39m \u001b[38;5;28;01mif\u001b[39;00m user_enabled \u001b[38;5;129;01mis\u001b[39;00m \u001b[38;5;28;01mFalse\u001b[39;00m \u001b[38;5;129;01mor\u001b[39;00m (\u001b[38;5;129;01mnot\u001b[39;00m tracing_enabled \u001b[38;5;129;01mand\u001b[39;00m user_enabled \u001b[38;5;129;01mis\u001b[39;00m \u001b[38;5;28;01mNone\u001b[39;00m):\n\u001b[32m--> \u001b[39m\u001b[32m119\u001b[39m     \u001b[38;5;28;01mreturn\u001b[39;00m \u001b[43mfunc\u001b[49m\u001b[43m(\u001b[49m\u001b[43m*\u001b[49m\u001b[43margs\u001b[49m\u001b[43m,\u001b[49m\u001b[43m \u001b[49m\u001b[43m*\u001b[49m\u001b[43m*\u001b[49m\u001b[43mkwargs\u001b[49m\u001b[43m)\u001b[49m\n\u001b[32m    121\u001b[39m \u001b[38;5;66;03m# Merge span is parameter is set, but only if no explicit parent are passed\u001b[39;00m\n\u001b[32m    122\u001b[39m \u001b[38;5;28;01mif\u001b[39;00m merge_span \u001b[38;5;129;01mand\u001b[39;00m \u001b[38;5;129;01mnot\u001b[39;00m passed_in_parent:\n",
      "\u001b[36mFile \u001b[39m\u001b[32mD:\\ProgramData\\miniconda3\\envs\\redTA-env\\Lib\\site-packages\\azure\\ai\\projects\\_validation.py:46\u001b[39m, in \u001b[36mapi_version_validation.<locals>.decorator.<locals>.wrapper\u001b[39m\u001b[34m(*args, **kwargs)\u001b[39m\n\u001b[32m     36\u001b[39m \u001b[38;5;28;01mif\u001b[39;00m unsupported:\n\u001b[32m     37\u001b[39m     \u001b[38;5;28;01mraise\u001b[39;00m \u001b[38;5;167;01mValueError\u001b[39;00m(\n\u001b[32m     38\u001b[39m         \u001b[33m\"\u001b[39m\u001b[33m\"\u001b[39m.join(\n\u001b[32m     39\u001b[39m             [\n\u001b[32m   (...)\u001b[39m\u001b[32m     44\u001b[39m         )\n\u001b[32m     45\u001b[39m     )\n\u001b[32m---> \u001b[39m\u001b[32m46\u001b[39m \u001b[38;5;28;01mreturn\u001b[39;00m \u001b[43mfunc\u001b[49m\u001b[43m(\u001b[49m\u001b[43m*\u001b[49m\u001b[43margs\u001b[49m\u001b[43m,\u001b[49m\u001b[43m \u001b[49m\u001b[43m*\u001b[49m\u001b[43m*\u001b[49m\u001b[43mkwargs\u001b[49m\u001b[43m)\u001b[49m\n",
      "\u001b[36mFile \u001b[39m\u001b[32mD:\\ProgramData\\miniconda3\\envs\\redTA-env\\Lib\\site-packages\\azure\\ai\\projects\\operations\\_operations.py:2854\u001b[39m, in \u001b[36mRedTeamsOperations.create\u001b[39m\u001b[34m(self, red_team, **kwargs)\u001b[39m\n\u001b[32m   2852\u001b[39m             \u001b[38;5;28;01mpass\u001b[39;00m\n\u001b[32m   2853\u001b[39m     map_error(status_code=response.status_code, response=response, error_map=error_map)\n\u001b[32m-> \u001b[39m\u001b[32m2854\u001b[39m     \u001b[38;5;28;01mraise\u001b[39;00m HttpResponseError(response=response)\n\u001b[32m   2856\u001b[39m \u001b[38;5;28;01mif\u001b[39;00m _stream:\n\u001b[32m   2857\u001b[39m     deserialized = response.iter_bytes()\n",
      "\u001b[31mHttpResponseError\u001b[39m: (UserError) RedTeam target is invalid\nCode: UserError\nMessage: RedTeam target is invalid"
     ]
    }
   ],
   "source": [
    "from azure.identity import DefaultAzureCredential\n",
    "from azure.ai.projects import AIProjectClient\n",
    "from azure.ai.projects.models import (\n",
    "    RedTeam,\n",
    "    AzureOpenAIModelConfiguration,\n",
    "    AttackStrategy,\n",
    "    RiskCategory,\n",
    ")\n",
    "\n",
    "with AIProjectClient(\n",
    "  endpoint=endpoint,\n",
    "  credential=DefaultAzureCredential(),\n",
    ") as project_client:\n",
    "\n",
    "    # Create target configuration for testing an Azure OpenAI model\n",
    "    target_config = AzureOpenAIModelConfiguration(\n",
    "        model_deployment_name= \"RedTeaming-OpenAI/\" + model_deployment_name,\n",
    "    )\n",
    "\n",
    "    print(\"Target Configuration:\", target_config.model_deployment_name)\n",
    "\n",
    "    # Instantiate the AI Red Teaming Agent\n",
    "    red_team_agent = RedTeam(\n",
    "        attack_strategies=[AttackStrategy.BASE64],\n",
    "        risk_categories=[RiskCategory.VIOLENCE],\n",
    "        display_name=\"red-team-cloud-run\", \n",
    "        target=target_config,\n",
    "    )\n",
    "\n",
    "\n",
    "    # Create and run the red teaming scan\n",
    "    red_team_response = project_client.red_teams.create(red_team=red_team_agent,  headers={\n",
    "        \"endpoint\": endpoint,\n",
    "        \"api-version\": \"2024-12-01-preview\",   \n",
    "    },)\n"
   ]
  },
  {
   "cell_type": "markdown",
   "id": "92717e8e",
   "metadata": {},
   "source": [
    "## Get an AI red teaming run"
   ]
  },
  {
   "cell_type": "code",
   "execution_count": null,
   "id": "2490b5ca",
   "metadata": {},
   "outputs": [],
   "source": [
    "# Use the name returned by the create operation for the get call\n",
    "get_red_team_response = project_client.red_teams.get(name=red_team_response.name)\n",
    "print(f\"Red Team scan status: {get_red_team_response.status}\")"
   ]
  },
  {
   "cell_type": "markdown",
   "id": "5903120d",
   "metadata": {},
   "source": [
    "## List all AI red teaming runs"
   ]
  },
  {
   "cell_type": "code",
   "execution_count": null,
   "id": "8eeaf884",
   "metadata": {},
   "outputs": [],
   "source": [
    "for scan in project_client.red_teams.list():\n",
    "  print(f\"Found scan: {scan.name}, Status: {scan.status}\")"
   ]
  }
 ],
 "metadata": {
  "kernelspec": {
   "display_name": "Python 3 (ipykernel)",
   "language": "python",
   "name": "python3"
  },
  "language_info": {
   "codemirror_mode": {
    "name": "ipython",
    "version": 3
   },
   "file_extension": ".py",
   "mimetype": "text/x-python",
   "name": "python",
   "nbconvert_exporter": "python",
   "pygments_lexer": "ipython3",
   "version": "3.13.5"
  }
 },
 "nbformat": 4,
 "nbformat_minor": 5
}
