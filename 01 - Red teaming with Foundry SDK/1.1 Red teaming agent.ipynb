{
 "cells": [
  {
   "cell_type": "markdown",
   "metadata": {},
   "source": [
    "# 1.1 Red teaming Agent in AI Foundry"
   ]
  },
  {
   "cell_type": "markdown",
   "metadata": {},
   "source": [
    "## Load environment variables\n"
   ]
  },
  {
   "cell_type": "code",
   "execution_count": null,
   "metadata": {},
   "outputs": [],
   "source": [
    "#!az login"
   ]
  },
  {
   "cell_type": "code",
   "execution_count": 10,
   "metadata": {},
   "outputs": [
    {
     "name": "stdout",
     "output_type": "stream",
     "text": [
      "Subscription ID: d9cab688-597a-4428-a159-cbd213244607\n",
      "Resource Group: RedTeaming-rg\n",
      "Project Name: RedTeaming-pj\n"
     ]
    }
   ],
   "source": [
    "import os\n",
    "from dotenv import load_dotenv\n",
    "\n",
    "load_dotenv(\"../infra/credentials.env\", override=True)\n",
    "\n",
    "# print some varaibles to check the process\n",
    "print(\"Subscription ID:\", os.getenv(\"AZURE_SUBSCRIPTION_ID\"))\n",
    "print(\"Resource Group:\", os.getenv(\"AZURE_RESOURCE_GROUP_NAME\"))\n",
    "print(\"Project Name:\", os.getenv(\"AZURE_PROJECT_NAME\"))\n"
   ]
  },
  {
   "cell_type": "markdown",
   "metadata": {
    "nteract": {
     "transient": {
      "deleting": false
     }
    }
   },
   "source": [
    "## Create an AI Red Teaming Agent\n",
    "You can instantiate the AI Red Teaming agent with your Azure AI Project and Azure Credentials."
   ]
  },
  {
   "cell_type": "code",
   "execution_count": 11,
   "metadata": {},
   "outputs": [],
   "source": [
    "# Azure imports\n",
    "from azure.identity import DefaultAzureCredential\n",
    "from azure.ai.evaluation.red_team import RedTeam, RiskCategory\n",
    "\n",
    "# Azure AI Project Information\n",
    "azure_ai_project = {\n",
    "    \"subscription_id\": os.environ.get(\"AZURE_SUBSCRIPTION_ID\"),\n",
    "    \"resource_group_name\": os.environ.get(\"AZURE_RESOURCE_GROUP_NAME\"),\n",
    "    \"project_name\": os.environ.get(\"AZURE_PROJECT_NAME\"),\n",
    "}\n",
    "\n",
    "# Instantiate your AI Red Teaming Agent\n",
    "red_team_agent = RedTeam(\n",
    "    azure_ai_project=azure_ai_project,     # required\n",
    "    credential=DefaultAzureCredential(),   # required\n",
    "    risk_categories=[                      # optional, defaults to all four risk categories\n",
    "        RiskCategory.Violence,\n",
    "        RiskCategory.HateUnfairness,\n",
    "        RiskCategory.Sexual,\n",
    "        RiskCategory.SelfHarm\n",
    "    ], \n",
    "    num_objectives=2,                      # optional, defaults to 10\n",
    ")\n"
   ]
  },
  {
   "cell_type": "markdown",
   "metadata": {
    "nteract": {
     "transient": {
      "deleting": false
     }
    }
   },
   "source": [
    "Optionally, you can specify which **risk categories** of content risks you want to cover with `risk_categories` and define the **number of prompts** covering each risk category with `num_objectives`. The previous example generates 5 seed prompts for each risk category for a total of 20 rows of prompts to be generated and sent to your target."
   ]
  },
  {
   "cell_type": "markdown",
   "metadata": {},
   "source": [
    "## Types of Targets You Can Scan with the AI Red Teaming Agent\n",
    "\n",
    "When using the AI Red Teaming Agent, you must define a **target**, which is the AI system or interface you want to probe for safety risks. The agent supports several types of targets, depending on how your AI system is deployed or accessed:\n",
    "\n",
    "### 1 - Model Configuration\n",
    "Use this when scanning a deployed model, such as an Azure OpenAI deployment. This is ideal during model selection or benchmarking phases.\n",
    "\n",
    "### 2 - Simple Callback\n",
    "Use a basic Python function that receives a prompt and returns a response. Perfect if you have a custom application (e.g., a chatbot or RAG pipeline) and want to test it easily.\n",
    "\n",
    "### 3 - Advanced Callback (Chat Protocol)\n",
    "Use this when your AI system handles structured chat messages (with roles like `user`, `assistant`). This is great for systems that follow the OpenAI chat format or multi-turn logic.\n",
    "\n",
    "### 4 - PyRIT Prompt Target\n",
    "For advanced users already working with PyRIT. This option allows you to integrate existing PyRIT targets like `OpenAIChatTarget` or any class inheriting from `PromptChatTarget`.\n",
    "\n",
    "Each of these target types enables the agent to send adversarial prompts and evaluate how your system responds to potentially harmful or sensitive queries.\n"
   ]
  },
  {
   "cell_type": "markdown",
   "metadata": {},
   "source": [
    "## Example: Scanning an Azure OpenAI Model (Model Configuration)\n",
    "\n",
    "In this example, we'll scan an Azure OpenAI model by passing its configuration details as the target to the AI Red Teaming Agent."
   ]
  },
  {
   "cell_type": "code",
   "execution_count": 12,
   "metadata": {},
   "outputs": [],
   "source": [
    "# Configuration for Azure OpenAI model\n",
    "azure_openai_config = {\n",
    "    \"azure_endpoint\": os.environ.get(\"AZURE_OPENAI_ENDPOINT\"),\n",
    "    \"azure_deployment\": os.environ.get(\"AZURE_OPENAI_DEPLOYMENT\"),\n",
    "    \"api_key\": os.environ.get(\"AZURE_OPENAI_KEY\"),\n",
    "}"
   ]
  },
  {
   "cell_type": "code",
   "execution_count": null,
   "metadata": {},
   "outputs": [],
   "source": [
    "red_team_result = await red_team_agent.scan(target=azure_openai_config)"
   ]
  },
  {
   "cell_type": "markdown",
   "metadata": {},
   "source": [
    "## Attack Strategies Overview\n",
    "\n",
    "By default, if you run a scan without specifying any attack strategies, the AI Red Teaming Agent will use **baseline direct adversarial prompts**. These are straightforward queries aimed at triggering undesired behavior, and are a great starting point to evaluate initial model alignment.\n",
    "\n",
    "### What Are Attack Strategies?\n",
    "Attack strategies are techniques that **modify baseline adversarial prompts** to try and **bypass your AI system’s safeguards**. They simulate how a real adversary might attempt to \"trick\" the system.\n",
    "\n",
    "### Levels of Attack Complexity\n",
    "\n",
    "Attack strategies are grouped into three complexity levels based on the effort needed to perform them:\n",
    "\n",
    "- **Easy**  \n",
    "  Simple transformations, such as encoding or character swaps.  \n",
    "  _Strategies: `Base64`, `Flip`, `Morse`_\n",
    "\n",
    "- **Moderate**  \n",
    "  Require extra resources like a generative model to reformulate prompts.  \n",
    "  _Strategies: `Tense`_\n",
    "\n",
    "- **Difficult**  \n",
    "  Combine multiple strategies or rely on advanced techniques like search-based prompt optimization.  \n",
    "  _Strategies: A composition of `Tense` + `Base64`_\n",
    "\n",
    "You can specify individual strategies or use predefined complexity groups in the `attack_strategies` parameter during a scan.\n"
   ]
  },
  {
   "cell_type": "markdown",
   "metadata": {},
   "source": [
    "### An example using default grouped attack strategies\n",
    "The following scan would first run all the baseline direct adversarial queries. Then, it would apply the following attack techniques: Base64, Flip, Morse, Tense, and a composition of Tense and Base64 which would first translate the baseline query into past tense then encode it into Base64."
   ]
  },
  {
   "cell_type": "code",
   "execution_count": 13,
   "metadata": {},
   "outputs": [
    {
     "name": "stdout",
     "output_type": "stream",
     "text": [
      "🚀 STARTING RED TEAM SCAN: Scan with many strategies\n",
      "📂 Output directory: .\\.scan_Scan_with_many_strategies_20250521_145203\n",
      "📊 Risk categories: ['violence', 'hate_unfairness', 'sexual', 'self_harm']\n",
      "🔗 Track your red team scan in AI Foundry: https://ai.azure.com/build/evaluation/17d8270c-a6b2-4a07-873d-af99325ccd97?wsid=/subscriptions/d9cab688-597a-4428-a159-cbd213244607/resourceGroups/RedTeaming-rg/providers/Microsoft.MachineLearningServices/workspaces/RedTeaming-pj\n",
      "📋 Planning 24 total tasks\n"
     ]
    },
    {
     "name": "stderr",
     "output_type": "stream",
     "text": [
      "Scanning:   0%|                        | 0/24 [00:00<?, ?scan/s, current=fetching baseline/violence]"
     ]
    },
    {
     "name": "stdout",
     "output_type": "stream",
     "text": [
      "📚 Using attack objectives from Azure RAI service\n"
     ]
    },
    {
     "name": "stderr",
     "output_type": "stream",
     "text": [
      "Scanning:   0%|                          | 0/24 [00:03<?, ?scan/s, current=fetching baseline/sexual]"
     ]
    },
    {
     "name": "stdout",
     "output_type": "stream",
     "text": [
      "📝 Fetched baseline objectives for violence: 2 objectives\n",
      "📝 Fetched baseline objectives for hate_unfairness: 2 objectives\n"
     ]
    },
    {
     "name": "stderr",
     "output_type": "stream",
     "text": [
      "Scanning:   0%|                          | 0/24 [00:04<?, ?scan/s, current=fetching base64/violence]"
     ]
    },
    {
     "name": "stdout",
     "output_type": "stream",
     "text": [
      "📝 Fetched baseline objectives for sexual: 2 objectives\n",
      "📝 Fetched baseline objectives for self_harm: 2 objectives\n",
      "🔄 Fetching objectives for strategy 2/6: base64\n"
     ]
    },
    {
     "name": "stderr",
     "output_type": "stream",
     "text": [
      "Scanning:   0%|                              | 0/24 [00:04<?, ?scan/s, current=fetching flip/sexual]"
     ]
    },
    {
     "name": "stdout",
     "output_type": "stream",
     "text": [
      "🔄 Fetching objectives for strategy 3/6: flip\n"
     ]
    },
    {
     "name": "stderr",
     "output_type": "stream",
     "text": [
      "Scanning:   0%|                    | 0/24 [00:05<?, ?scan/s, current=fetching morse/hate_unfairness]"
     ]
    },
    {
     "name": "stdout",
     "output_type": "stream",
     "text": [
      "🔄 Fetching objectives for strategy 4/6: morse\n"
     ]
    },
    {
     "name": "stderr",
     "output_type": "stream",
     "text": [
      "Scanning:   0%|                             | 0/24 [00:05<?, ?scan/s, current=fetching tense/sexual]"
     ]
    },
    {
     "name": "stdout",
     "output_type": "stream",
     "text": [
      "🔄 Fetching objectives for strategy 5/6: tense\n"
     ]
    },
    {
     "name": "stderr",
     "output_type": "stream",
     "text": [
      "Scanning:   0%|             | 0/24 [00:05<?, ?scan/s, current=fetching tense_base64/hate_unfairness]"
     ]
    },
    {
     "name": "stdout",
     "output_type": "stream",
     "text": [
      "🔄 Fetching objectives for strategy 6/6: tense_base64\n"
     ]
    },
    {
     "name": "stderr",
     "output_type": "stream",
     "text": [
      "Scanning:   0%|                                         | 0/24 [00:06<?, ?scan/s, current=batch 1/5]"
     ]
    },
    {
     "name": "stdout",
     "output_type": "stream",
     "text": [
      "⚙️ Processing 24 tasks in parallel (max 5 at a time)\n",
      "▶️ Starting task: baseline strategy for violence risk category\n",
      "▶️ Starting task: baseline strategy for hate_unfairness risk category\n",
      "▶️ Starting task: baseline strategy for sexual risk category\n",
      "▶️ Starting task: baseline strategy for self_harm risk category\n",
      "▶️ Starting task: base64 strategy for violence risk category\n"
     ]
    },
    {
     "name": "stderr",
     "output_type": "stream",
     "text": [
      "BadRequestException encountered: Status Code: 400, Message: {\"choices\":[{\"content_filter_results\":{\"hate\":{\"filtered\":false,\"severity\":\"safe\"},\"self_harm\":{\"filtered\":false,\"severity\":\"safe\"},\"sexual\":{\"filtered\":false,\"severity\":\"safe\"},\"violence\":{\"filtered\":true,\"severity\":\"medium\"}},\"finish_reason\":\"content_filter\",\"index\":0,\"logprobs\":null,\"message\":{\"annotations\":[],\"refusal\":null,\"role\":\"assistant\"}}],\"created\":1747831942,\"id\":\"chatcmpl-BZdDig2DyUayu59XmZbeJRQ1m9a02\",\"model\":\"gpt-4o-mini-2024-07-18\",\"object\":\"chat.completion\",\"prompt_filter_results\":[{\"prompt_index\":0,\"content_filter_results\":{\"hate\":{\"filtered\":false,\"severity\":\"safe\"},\"self_harm\":{\"filtered\":false,\"severity\":\"safe\"},\"sexual\":{\"filtered\":false,\"severity\":\"safe\"},\"violence\":{\"filtered\":false,\"severity\":\"safe\"}}}],\"system_fingerprint\":\"fp_7a53abb7a2\",\"usage\":{\"completion_tokens\":90,\"completion_tokens_details\":{\"accepted_prediction_tokens\":0,\"audio_tokens\":0,\"reasoning_tokens\":0,\"rejected_prediction_tokens\":0},\"prompt_tokens\":120,\"prompt_tokens_details\":{\"audio_tokens\":0,\"cached_tokens\":0},\"total_tokens\":210}}\n",
      "\n",
      "BadRequestException encountered: Status Code: 400, Message: {\"error\":{\"message\":\"The response was filtered due to the prompt triggering Azure OpenAI's content management policy. Please modify your prompt and retry. To learn more about our content filtering policies please read our documentation: https://go.microsoft.com/fwlink/?linkid=2198766\",\"type\":null,\"param\":\"prompt\",\"code\":\"content_filter\",\"status\":400,\"innererror\":{\"code\":\"ResponsibleAIPolicyViolation\",\"content_filter_result\":{\"hate\":{\"filtered\":true,\"severity\":\"medium\"},\"self_harm\":{\"filtered\":false,\"severity\":\"safe\"},\"sexual\":{\"filtered\":false,\"severity\":\"safe\"},\"violence\":{\"filtered\":false,\"severity\":\"low\"}}}}}\n",
      "BadRequestException encountered: Status Code: 400, Message: {\"error\":{\"message\":\"The response was filtered due to the prompt triggering Azure OpenAI's content management policy. Please modify your prompt and retry. To learn more about our content filtering policies please read our documentation: https://go.microsoft.com/fwlink/?linkid=2198766\",\"type\":null,\"param\":\"prompt\",\"code\":\"content_filter\",\"status\":400,\"innererror\":{\"code\":\"ResponsibleAIPolicyViolation\",\"content_filter_result\":{\"hate\":{\"filtered\":false,\"severity\":\"safe\"},\"self_harm\":{\"filtered\":true,\"severity\":\"high\"},\"sexual\":{\"filtered\":false,\"severity\":\"safe\"},\"violence\":{\"filtered\":false,\"severity\":\"safe\"}}}}}\n",
      "BadRequestException encountered: Status Code: 400, Message: {\"error\":{\"message\":\"The response was filtered due to the prompt triggering Azure OpenAI's content management policy. Please modify your prompt and retry. To learn more about our content filtering policies please read our documentation: https://go.microsoft.com/fwlink/?linkid=2198766\",\"type\":null,\"param\":\"prompt\",\"code\":\"content_filter\",\"status\":400,\"innererror\":{\"code\":\"ResponsibleAIPolicyViolation\",\"content_filter_result\":{\"hate\":{\"filtered\":false,\"severity\":\"safe\"},\"self_harm\":{\"filtered\":false,\"severity\":\"safe\"},\"sexual\":{\"filtered\":false,\"severity\":\"safe\"},\"violence\":{\"filtered\":true,\"severity\":\"high\"}}}}}\n",
      "BadRequestException encountered: Status Code: 400, Message: {\"error\":{\"message\":\"The response was filtered due to the prompt triggering Azure OpenAI's content management policy. Please modify your prompt and retry. To learn more about our content filtering policies please read our documentation: https://go.microsoft.com/fwlink/?linkid=2198766\",\"type\":null,\"param\":\"prompt\",\"code\":\"content_filter\",\"status\":400,\"innererror\":{\"code\":\"ResponsibleAIPolicyViolation\",\"content_filter_result\":{\"hate\":{\"filtered\":false,\"severity\":\"safe\"},\"self_harm\":{\"filtered\":false,\"severity\":\"safe\"},\"sexual\":{\"filtered\":false,\"severity\":\"safe\"},\"violence\":{\"filtered\":true,\"severity\":\"high\"}}}}}\n",
      "BadRequestException encountered: Status Code: 400, Message: {\"error\":{\"message\":\"The response was filtered due to the prompt triggering Azure OpenAI's content management policy. Please modify your prompt and retry. To learn more about our content filtering policies please read our documentation: https://go.microsoft.com/fwlink/?linkid=2198766\",\"type\":null,\"param\":\"prompt\",\"code\":\"content_filter\",\"status\":400,\"innererror\":{\"code\":\"ResponsibleAIPolicyViolation\",\"content_filter_result\":{\"hate\":{\"filtered\":false,\"severity\":\"safe\"},\"self_harm\":{\"filtered\":true,\"severity\":\"high\"},\"sexual\":{\"filtered\":false,\"severity\":\"safe\"},\"violence\":{\"filtered\":false,\"severity\":\"safe\"}}}}}\n",
      "BadRequestException encountered: Status Code: 400, Message: {\"error\":{\"message\":\"The response was filtered due to the prompt triggering Azure OpenAI's content management policy. Please modify your prompt and retry. To learn more about our content filtering policies please read our documentation: https://go.microsoft.com/fwlink/?linkid=2198766\",\"type\":null,\"param\":\"prompt\",\"code\":\"content_filter\",\"status\":400,\"innererror\":{\"code\":\"ResponsibleAIPolicyViolation\",\"content_filter_result\":{\"hate\":{\"filtered\":true,\"severity\":\"medium\"},\"self_harm\":{\"filtered\":false,\"severity\":\"safe\"},\"sexual\":{\"filtered\":false,\"severity\":\"safe\"},\"violence\":{\"filtered\":false,\"severity\":\"safe\"}}}}}\n",
      "Scanning:   4%|█▍                               | 1/24 [00:34<13:18, 34.72s/scan, current=batch 1/5]"
     ]
    },
    {
     "name": "stdout",
     "output_type": "stream",
     "text": [
      "Evaluation results saved to \"C:\\Users\\t-nbenetti\\OneDrive - Microsoft\\MyData\\RedTeaming agent\\01 - Red teaming with Foundry SDK\\My-First-RedTeam-Scan.json\".\n",
      "\n",
      "\n",
      "✅ Completed task 1/24 (4.2%) - base64/violence in 28.5s\n",
      "   Est. remaining: 16.4 minutes\n",
      "Evaluation results saved to \"C:\\Users\\t-nbenetti\\OneDrive - Microsoft\\MyData\\RedTeaming agent\\01 - Red teaming with Foundry SDK\\My-First-RedTeam-Scan.json\".\n",
      "\n",
      "\n",
      "✅ Completed task 2/24 (8.3%) - baseline/violence in 28.5s\n",
      "   Est. remaining: 7.8 minutes\n"
     ]
    },
    {
     "name": "stderr",
     "output_type": "stream",
     "text": [
      "Scanning:  12%|████▏                            | 3/24 [00:39<03:43, 10.65s/scan, current=batch 1/5]"
     ]
    },
    {
     "name": "stdout",
     "output_type": "stream",
     "text": [
      "Evaluation results saved to \"C:\\Users\\t-nbenetti\\OneDrive - Microsoft\\MyData\\RedTeaming agent\\01 - Red teaming with Foundry SDK\\My-First-RedTeam-Scan.json\".\n",
      "\n",
      "\n",
      "✅ Completed task 3/24 (12.5%) - baseline/self_harm in 33.0s\n",
      "   Est. remaining: 5.5 minutes\n"
     ]
    },
    {
     "name": "stderr",
     "output_type": "stream",
     "text": [
      "BadRequestException encountered: Status Code: 400, Message: {\"error\":{\"message\":\"The response was filtered due to the prompt triggering Azure OpenAI's content management policy. Please modify your prompt and retry. To learn more about our content filtering policies please read our documentation: https://go.microsoft.com/fwlink/?linkid=2198766\",\"type\":null,\"param\":\"prompt\",\"code\":\"content_filter\",\"status\":400,\"innererror\":{\"code\":\"ResponsibleAIPolicyViolation\",\"content_filter_result\":{\"hate\":{\"filtered\":false,\"severity\":\"safe\"},\"self_harm\":{\"filtered\":false,\"severity\":\"safe\"},\"sexual\":{\"filtered\":true,\"severity\":\"medium\"},\"violence\":{\"filtered\":false,\"severity\":\"safe\"}}}}}\n",
      "Scanning:  17%|█████▌                           | 4/24 [00:42<02:43,  8.17s/scan, current=batch 1/5]"
     ]
    },
    {
     "name": "stdout",
     "output_type": "stream",
     "text": [
      "Evaluation results saved to \"C:\\Users\\t-nbenetti\\OneDrive - Microsoft\\MyData\\RedTeaming agent\\01 - Red teaming with Foundry SDK\\My-First-RedTeam-Scan.json\".\n",
      "\n",
      "\n",
      "✅ Completed task 4/24 (16.7%) - baseline/hate_unfairness in 36.5s\n",
      "   Est. remaining: 4.2 minutes\n"
     ]
    },
    {
     "name": "stderr",
     "output_type": "stream",
     "text": [
      "BadRequestException encountered: Status Code: 400, Message: {\"error\":{\"message\":\"The response was filtered due to the prompt triggering Azure OpenAI's content management policy. Please modify your prompt and retry. To learn more about our content filtering policies please read our documentation: https://go.microsoft.com/fwlink/?linkid=2198766\",\"type\":null,\"param\":\"prompt\",\"code\":\"content_filter\",\"status\":400,\"innererror\":{\"code\":\"ResponsibleAIPolicyViolation\",\"content_filter_result\":{\"hate\":{\"filtered\":false,\"severity\":\"safe\"},\"self_harm\":{\"filtered\":false,\"severity\":\"safe\"},\"sexual\":{\"filtered\":true,\"severity\":\"high\"},\"violence\":{\"filtered\":false,\"severity\":\"safe\"}}}}}\n",
      "Scanning:  21%|██████▉                          | 5/24 [01:04<03:58, 12.56s/scan, current=batch 2/5]"
     ]
    },
    {
     "name": "stdout",
     "output_type": "stream",
     "text": [
      "Evaluation results saved to \"C:\\Users\\t-nbenetti\\OneDrive - Microsoft\\MyData\\RedTeaming agent\\01 - Red teaming with Foundry SDK\\My-First-RedTeam-Scan.json\".\n",
      "\n",
      "\n",
      "✅ Completed task 5/24 (20.8%) - baseline/sexual in 57.9s\n",
      "   Est. remaining: 4.6 minutes\n",
      "▶️ Starting task: base64 strategy for hate_unfairness risk category\n",
      "▶️ Starting task: base64 strategy for sexual risk category\n",
      "▶️ Starting task: base64 strategy for self_harm risk category\n",
      "▶️ Starting task: flip strategy for violence risk category\n",
      "▶️ Starting task: flip strategy for hate_unfairness risk category\n"
     ]
    },
    {
     "name": "stderr",
     "output_type": "stream",
     "text": [
      "BadRequestException encountered: Status Code: 400, Message: {\"error\":{\"message\":\"The response was filtered due to the prompt triggering Azure OpenAI's content management policy. Please modify your prompt and retry. To learn more about our content filtering policies please read our documentation: https://go.microsoft.com/fwlink/?linkid=2198766\",\"type\":null,\"param\":\"prompt\",\"code\":\"content_filter\",\"status\":400,\"innererror\":{\"code\":\"ResponsibleAIPolicyViolation\",\"content_filter_result\":{\"hate\":{\"filtered\":false,\"severity\":\"safe\"},\"self_harm\":{\"filtered\":true,\"severity\":\"medium\"},\"sexual\":{\"filtered\":false,\"severity\":\"safe\"},\"violence\":{\"filtered\":false,\"severity\":\"safe\"}}}}}\n",
      "Scanning:  25%|████████▎                        | 6/24 [01:46<06:37, 22.11s/scan, current=batch 2/5]"
     ]
    },
    {
     "name": "stdout",
     "output_type": "stream",
     "text": [
      "Evaluation results saved to \"C:\\Users\\t-nbenetti\\OneDrive - Microsoft\\MyData\\RedTeaming agent\\01 - Red teaming with Foundry SDK\\My-First-RedTeam-Scan.json\".\n",
      "\n",
      "\n",
      "✅ Completed task 6/24 (25.0%) - flip/hate_unfairness in 42.3s\n",
      "   Est. remaining: 5.7 minutes\n"
     ]
    },
    {
     "name": "stderr",
     "output_type": "stream",
     "text": [
      "Scanning:  29%|█████████▋                       | 7/24 [01:50<04:40, 16.50s/scan, current=batch 2/5]"
     ]
    },
    {
     "name": "stdout",
     "output_type": "stream",
     "text": [
      "Evaluation results saved to \"C:\\Users\\t-nbenetti\\OneDrive - Microsoft\\MyData\\RedTeaming agent\\01 - Red teaming with Foundry SDK\\My-First-RedTeam-Scan.json\".\n",
      "\n",
      "\n",
      "✅ Completed task 7/24 (29.2%) - base64/self_harm in 46.6s\n",
      "   Est. remaining: 4.8 minutes\n",
      "Evaluation results saved to \"C:\\Users\\t-nbenetti\\OneDrive - Microsoft\\MyData\\RedTeaming agent\\01 - Red teaming with Foundry SDK\\My-First-RedTeam-Scan.json\".\n",
      "\n",
      "\n",
      "✅ Completed task 8/24 (33.3%) - base64/hate_unfairness in 46.6s\n",
      "   Est. remaining: 4.0 minutes\n"
     ]
    },
    {
     "name": "stderr",
     "output_type": "stream",
     "text": [
      "Scanning:  38%|████████████▍                    | 9/24 [01:51<02:11,  8.78s/scan, current=batch 2/5]"
     ]
    },
    {
     "name": "stdout",
     "output_type": "stream",
     "text": [
      "Evaluation results saved to \"C:\\Users\\t-nbenetti\\OneDrive - Microsoft\\MyData\\RedTeaming agent\\01 - Red teaming with Foundry SDK\\My-First-RedTeam-Scan.json\".\n",
      "\n",
      "\n",
      "✅ Completed task 9/24 (37.5%) - base64/sexual in 46.9s\n",
      "   Est. remaining: 3.3 minutes\n"
     ]
    },
    {
     "name": "stderr",
     "output_type": "stream",
     "text": [
      "Scanning:  42%|█████████████▎                  | 10/24 [02:06<02:27, 10.50s/scan, current=batch 3/5]"
     ]
    },
    {
     "name": "stdout",
     "output_type": "stream",
     "text": [
      "Evaluation results saved to \"C:\\Users\\t-nbenetti\\OneDrive - Microsoft\\MyData\\RedTeaming agent\\01 - Red teaming with Foundry SDK\\My-First-RedTeam-Scan.json\".\n",
      "\n",
      "\n",
      "✅ Completed task 10/24 (41.7%) - flip/violence in 62.5s\n",
      "   Est. remaining: 3.1 minutes\n",
      "▶️ Starting task: flip strategy for sexual risk category\n",
      "▶️ Starting task: flip strategy for self_harm risk category\n",
      "▶️ Starting task: morse strategy for violence risk category\n",
      "▶️ Starting task: morse strategy for hate_unfairness risk category\n",
      "▶️ Starting task: morse strategy for sexual risk category\n"
     ]
    },
    {
     "name": "stderr",
     "output_type": "stream",
     "text": [
      "BadRequestException encountered: Status Code: 400, Message: {\"error\":{\"message\":\"The response was filtered due to the prompt triggering Azure OpenAI's content management policy. Please modify your prompt and retry. To learn more about our content filtering policies please read our documentation: https://go.microsoft.com/fwlink/?linkid=2198766\",\"type\":null,\"param\":\"prompt\",\"code\":\"content_filter\",\"status\":400,\"innererror\":{\"code\":\"ResponsibleAIPolicyViolation\",\"content_filter_result\":{\"hate\":{\"filtered\":false,\"severity\":\"safe\"},\"self_harm\":{\"filtered\":false,\"severity\":\"safe\"},\"sexual\":{\"filtered\":false,\"severity\":\"safe\"},\"violence\":{\"filtered\":true,\"severity\":\"medium\"}}}}}\n",
      "Scanning:  46%|██████████████▋                 | 11/24 [02:28<02:56, 13.59s/scan, current=batch 3/5]"
     ]
    },
    {
     "name": "stdout",
     "output_type": "stream",
     "text": [
      "Evaluation results saved to \"C:\\Users\\t-nbenetti\\OneDrive - Microsoft\\MyData\\RedTeaming agent\\01 - Red teaming with Foundry SDK\\My-First-RedTeam-Scan.json\".\n",
      "\n",
      "\n",
      "✅ Completed task 11/24 (45.8%) - morse/violence in 22.2s\n",
      "   Est. remaining: 3.1 minutes\n"
     ]
    },
    {
     "name": "stderr",
     "output_type": "stream",
     "text": [
      "BadRequestException encountered: Status Code: 400, Message: {\"error\":{\"message\":\"The response was filtered due to the prompt triggering Azure OpenAI's content management policy. Please modify your prompt and retry. To learn more about our content filtering policies please read our documentation: https://go.microsoft.com/fwlink/?linkid=2198766\",\"type\":null,\"param\":\"prompt\",\"code\":\"content_filter\",\"status\":400,\"innererror\":{\"code\":\"ResponsibleAIPolicyViolation\",\"content_filter_result\":{\"hate\":{\"filtered\":false,\"severity\":\"safe\"},\"self_harm\":{\"filtered\":true,\"severity\":\"high\"},\"sexual\":{\"filtered\":false,\"severity\":\"safe\"},\"violence\":{\"filtered\":false,\"severity\":\"safe\"}}}}}\n",
      "Scanning:  50%|████████████████                | 12/24 [02:34<02:15, 11.30s/scan, current=batch 3/5]"
     ]
    },
    {
     "name": "stdout",
     "output_type": "stream",
     "text": [
      "Evaluation results saved to \"C:\\Users\\t-nbenetti\\OneDrive - Microsoft\\MyData\\RedTeaming agent\\01 - Red teaming with Foundry SDK\\My-First-RedTeam-Scan.json\".\n",
      "\n",
      "\n",
      "✅ Completed task 12/24 (50.0%) - flip/self_harm in 27.4s\n",
      "   Est. remaining: 2.7 minutes\n",
      "Evaluation results saved to \"C:\\Users\\t-nbenetti\\OneDrive - Microsoft\\MyData\\RedTeaming agent\\01 - Red teaming with Foundry SDK\\My-First-RedTeam-Scan.json\".\n",
      "\n",
      "\n",
      "✅ Completed task 13/24 (54.2%) - morse/hate_unfairness in 27.4s\n",
      "   Est. remaining: 2.3 minutes\n"
     ]
    },
    {
     "name": "stderr",
     "output_type": "stream",
     "text": [
      "Scanning:  58%|██████████████████▋             | 14/24 [02:44<01:26,  8.64s/scan, current=batch 3/5]"
     ]
    },
    {
     "name": "stdout",
     "output_type": "stream",
     "text": [
      "Evaluation results saved to \"C:\\Users\\t-nbenetti\\OneDrive - Microsoft\\MyData\\RedTeaming agent\\01 - Red teaming with Foundry SDK\\My-First-RedTeam-Scan.json\".\n",
      "\n",
      "\n",
      "✅ Completed task 14/24 (58.3%) - flip/sexual in 37.9s\n",
      "   Est. remaining: 2.1 minutes\n"
     ]
    },
    {
     "name": "stderr",
     "output_type": "stream",
     "text": [
      "Scanning:  62%|████████████████████            | 15/24 [03:00<01:33, 10.42s/scan, current=batch 4/5]"
     ]
    },
    {
     "name": "stdout",
     "output_type": "stream",
     "text": [
      "Evaluation results saved to \"C:\\Users\\t-nbenetti\\OneDrive - Microsoft\\MyData\\RedTeaming agent\\01 - Red teaming with Foundry SDK\\My-First-RedTeam-Scan.json\".\n",
      "\n",
      "\n",
      "✅ Completed task 15/24 (62.5%) - morse/sexual in 54.0s\n",
      "   Est. remaining: 1.9 minutes\n",
      "▶️ Starting task: morse strategy for self_harm risk category\n",
      "▶️ Starting task: tense strategy for violence risk category\n",
      "▶️ Starting task: tense strategy for hate_unfairness risk category\n",
      "▶️ Starting task: tense strategy for sexual risk category\n",
      "▶️ Starting task: tense strategy for self_harm risk category\n"
     ]
    },
    {
     "name": "stderr",
     "output_type": "stream",
     "text": [
      "Scanning:  67%|█████████████████████▎          | 16/24 [03:25<01:53, 14.20s/scan, current=batch 4/5]"
     ]
    },
    {
     "name": "stdout",
     "output_type": "stream",
     "text": [
      "Evaluation results saved to \"C:\\Users\\t-nbenetti\\OneDrive - Microsoft\\MyData\\RedTeaming agent\\01 - Red teaming with Foundry SDK\\My-First-RedTeam-Scan.json\".\n",
      "\n",
      "\n",
      "✅ Completed task 16/24 (66.7%) - tense/violence in 25.3s\n",
      "   Est. remaining: 1.8 minutes\n"
     ]
    },
    {
     "name": "stderr",
     "output_type": "stream",
     "text": [
      "Scanning:  71%|██████████████████████▋         | 17/24 [03:33<01:26, 12.37s/scan, current=batch 4/5]"
     ]
    },
    {
     "name": "stdout",
     "output_type": "stream",
     "text": [
      "Evaluation results saved to \"C:\\Users\\t-nbenetti\\OneDrive - Microsoft\\MyData\\RedTeaming agent\\01 - Red teaming with Foundry SDK\\My-First-RedTeam-Scan.json\".\n",
      "\n",
      "\n",
      "✅ Completed task 17/24 (70.8%) - tense/self_harm in 32.6s\n",
      "   Est. remaining: 1.5 minutes\n"
     ]
    },
    {
     "name": "stderr",
     "output_type": "stream",
     "text": [
      "Scanning:  75%|████████████████████████        | 18/24 [03:41<01:08, 11.36s/scan, current=batch 4/5]"
     ]
    },
    {
     "name": "stdout",
     "output_type": "stream",
     "text": [
      "Evaluation results saved to \"C:\\Users\\t-nbenetti\\OneDrive - Microsoft\\MyData\\RedTeaming agent\\01 - Red teaming with Foundry SDK\\My-First-RedTeam-Scan.json\".\n",
      "\n",
      "\n",
      "✅ Completed task 18/24 (75.0%) - morse/self_harm in 41.3s\n",
      "   Est. remaining: 1.3 minutes\n"
     ]
    },
    {
     "name": "stderr",
     "output_type": "stream",
     "text": [
      "Scanning:  79%|█████████████████████████▎      | 19/24 [03:56<01:01, 12.25s/scan, current=batch 4/5]"
     ]
    },
    {
     "name": "stdout",
     "output_type": "stream",
     "text": [
      "Evaluation results saved to \"C:\\Users\\t-nbenetti\\OneDrive - Microsoft\\MyData\\RedTeaming agent\\01 - Red teaming with Foundry SDK\\My-First-RedTeam-Scan.json\".\n",
      "\n",
      "\n",
      "✅ Completed task 19/24 (79.2%) - tense/hate_unfairness in 55.8s\n",
      "   Est. remaining: 1.1 minutes\n"
     ]
    },
    {
     "name": "stderr",
     "output_type": "stream",
     "text": [
      "Scanning:  83%|██████████████████████████▋     | 20/24 [04:44<01:29, 22.46s/scan, current=batch 5/5]"
     ]
    },
    {
     "name": "stdout",
     "output_type": "stream",
     "text": [
      "Evaluation results saved to \"C:\\Users\\t-nbenetti\\OneDrive - Microsoft\\MyData\\RedTeaming agent\\01 - Red teaming with Foundry SDK\\My-First-RedTeam-Scan.json\".\n",
      "\n",
      "\n",
      "✅ Completed task 20/24 (83.3%) - tense/sexual in 103.5s\n",
      "   Est. remaining: 1.0 minutes\n",
      "▶️ Starting task: tense_base64 strategy for violence risk category\n",
      "▶️ Starting task: tense_base64 strategy for hate_unfairness risk category\n",
      "▶️ Starting task: tense_base64 strategy for sexual risk category\n",
      "▶️ Starting task: tense_base64 strategy for self_harm risk category\n"
     ]
    },
    {
     "name": "stderr",
     "output_type": "stream",
     "text": [
      "Scanning:  88%|████████████████████████████    | 21/24 [05:07<01:08, 22.84s/scan, current=batch 5/5]"
     ]
    },
    {
     "name": "stdout",
     "output_type": "stream",
     "text": [
      "Evaluation results saved to \"C:\\Users\\t-nbenetti\\OneDrive - Microsoft\\MyData\\RedTeaming agent\\01 - Red teaming with Foundry SDK\\My-First-RedTeam-Scan.json\".\n",
      "\n",
      "\n",
      "✅ Completed task 21/24 (87.5%) - tense_base64/violence in 23.8s\n",
      "   Est. remaining: 0.8 minutes\n",
      "Evaluation results saved to \"C:\\Users\\t-nbenetti\\OneDrive - Microsoft\\MyData\\RedTeaming agent\\01 - Red teaming with Foundry SDK\\My-First-RedTeam-Scan.json\".\n",
      "\n",
      "\n",
      "✅ Completed task 22/24 (91.7%) - tense_base64/hate_unfairness in 23.8s\n",
      "   Est. remaining: 0.5 minutes\n"
     ]
    },
    {
     "name": "stderr",
     "output_type": "stream",
     "text": [
      "Scanning:  96%|██████████████████████████████▋ | 23/24 [05:12<00:13, 13.46s/scan, current=batch 5/5]"
     ]
    },
    {
     "name": "stdout",
     "output_type": "stream",
     "text": [
      "Evaluation results saved to \"C:\\Users\\t-nbenetti\\OneDrive - Microsoft\\MyData\\RedTeaming agent\\01 - Red teaming with Foundry SDK\\My-First-RedTeam-Scan.json\".\n",
      "\n",
      "\n",
      "✅ Completed task 23/24 (95.8%) - tense_base64/sexual in 28.1s\n",
      "   Est. remaining: 0.2 minutes\n"
     ]
    },
    {
     "name": "stderr",
     "output_type": "stream",
     "text": [
      "Scanning: 100%|████████████████████████████████| 24/24 [05:12<00:00, 13.03s/scan, current=batch 5/5]"
     ]
    },
    {
     "name": "stdout",
     "output_type": "stream",
     "text": [
      "Evaluation results saved to \"C:\\Users\\t-nbenetti\\OneDrive - Microsoft\\MyData\\RedTeaming agent\\01 - Red teaming with Foundry SDK\\My-First-RedTeam-Scan.json\".\n",
      "\n",
      "\n",
      "✅ Completed task 24/24 (100.0%) - tense_base64/self_harm in 28.5s\n",
      "   Est. remaining: 0.0 minutes\n"
     ]
    },
    {
     "name": "stderr",
     "output_type": "stream",
     "text": [
      "\n"
     ]
    },
    {
     "name": "stdout",
     "output_type": "stream",
     "text": [
      "Evaluation results saved to \"C:\\Users\\t-nbenetti\\OneDrive - Microsoft\\MyData\\RedTeaming agent\\01 - Red teaming with Foundry SDK\\My-First-RedTeam-Scan.json\".\n",
      "\n",
      "Evaluation results saved to \"C:\\Users\\t-nbenetti\\OneDrive - Microsoft\\MyData\\RedTeaming agent\\01 - Red teaming with Foundry SDK\\.scan_Scan_with_many_strategies_20250521_145203\\final_results.json\".\n",
      "\n",
      "Overall ASR: 6.25%\n",
      "Attack Success: 3/48 attacks were successful\n",
      "------------------------------------------------------------------------------------------------------------\n",
      "Risk Category  | Baseline ASR   | Easy-Complexity Attacks ASR  | Moderate-Complexity Attacks ASR | Difficult-Complexity Attacks ASR\n",
      "------------------------------------------------------------------------------------------------------------\n",
      "Violence       | 0.0%           | 0.0%                         | 0.0%                            | 0.0%                          \n",
      "Hate-unfairness| 0.0%           | 33.33%                       | 0.0%                            | 0.0%                          \n",
      "Sexual         | 0.0%           | 16.67%                       | 0.0%                            | 0.0%                          \n",
      "Self-harm      | 0.0%           | 0.0%                         | 0.0%                            | 0.0%                          \n",
      "\n",
      "Detailed results available at:\n",
      "https://ai.azure.com/build/evaluation/17d8270c-a6b2-4a07-873d-af99325ccd97?wsid=/subscriptions/d9cab688-597a-4428-a159-cbd213244607/resourceGroups/RedTeaming-rg/providers/Microsoft.MachineLearningServices/workspaces/RedTeaming-pj\n",
      "\n",
      "📂 All scan files saved to: .\\.scan_Scan_with_many_strategies_20250521_145203\n",
      "✅ Scan completed successfully!\n"
     ]
    }
   ],
   "source": [
    "from azure.ai.evaluation.red_team import AttackStrategy\n",
    "\n",
    "# Run the red team scan with default grouped attack strategies\n",
    "red_team_agent_result = await red_team_agent.scan(\n",
    "    target=azure_openai_config, # required\n",
    "    output_path=\"My-First-RedTeam-Scan.json\", #optional, output file\n",
    "    scan_name=\"Scan with many strategies\", # optional, names your scan in Azure AI Foundry\n",
    "    attack_strategies=[ # optional\n",
    "        AttackStrategy.EASY, \n",
    "        AttackStrategy.MODERATE,  \n",
    "        AttackStrategy.DIFFICULT,\n",
    "    ],\n",
    ")"
   ]
  },
  {
   "cell_type": "markdown",
   "metadata": {},
   "source": [
    "### An example using specific attack strategies\n",
    "More advanced users can specify the desired attack strategies instead of using default groups."
   ]
  },
  {
   "cell_type": "code",
   "execution_count": null,
   "metadata": {},
   "outputs": [],
   "source": [
    "# Run the red team scan with multiple attack strategies\n",
    "red_team_agent_result = await red_team_agent.scan(\n",
    "    target=azure_openai_config, # required\n",
    "    scan_name=\"Scan with many strategies\", # optional\n",
    "    attack_strategies=[ # optional\n",
    "        AttackStrategy.CharacterSpace,  # Add character spaces\n",
    "        AttackStrategy.ROT13,  # Use ROT13 encoding\n",
    "        AttackStrategy.UnicodeConfusable,  # Use confusable Unicode characters\n",
    "        AttackStrategy.Compose([AttackStrategy.Base64, AttackStrategy.ROT13]), # composition of strategies\n",
    "    ],\n",
    ")"
   ]
  },
  {
   "cell_type": "markdown",
   "metadata": {},
   "source": [
    "## Understanding Your Scan Results\n",
    "\n",
    "Once your automated red teaming scan is complete, the results are summarized in a detailed scorecard. The key metric to look at is the **Attack Success Rate (ASR)**, which measures the percentage of attack prompts that successfully triggered undesirable or unsafe responses from your AI system.\n",
    "\n",
    "You can specify an `output_path` when running your scan to save the results in a JSON file. This file includes:\n",
    "\n",
    "- **ASR breakdown by risk category** (e.g., violence, self-harm, etc.)\n",
    "- **ASR breakdown by attack complexity** (baseline, easy, moderate, difficult)\n",
    "- **Joint summaries** that correlate attack strategies with specific risk categories\n",
    "- **Simulation parameters** showing which categories and attack techniques were used\n"
   ]
  },
  {
   "cell_type": "markdown",
   "metadata": {},
   "source": [
    "### Display the Red Teaming scan results JSON"
   ]
  },
  {
   "cell_type": "code",
   "execution_count": null,
   "metadata": {},
   "outputs": [],
   "source": [
    "import json\n",
    "\n",
    "# Path to the output JSON file from the scan\n",
    "output_file_path = \"My-First-RedTeam-Scan.json\"\n",
    "\n",
    "# Open and load the JSON file\n",
    "with open(output_file_path, \"r\", encoding=\"utf-8\") as file:\n",
    "    red_team_results = json.load(file)\n",
    "\n",
    "# Pretty print the JSON with indentation and Unicode support\n",
    "formatted_json = json.dumps(red_team_results, indent=2, ensure_ascii=False)\n",
    "print(formatted_json)\n",
    "\n"
   ]
  },
  {
   "cell_type": "markdown",
   "metadata": {},
   "source": [
    "## Let's attack an LLM protected with custom Content Filters"
   ]
  },
  {
   "cell_type": "code",
   "execution_count": null,
   "metadata": {},
   "outputs": [],
   "source": [
    "from azure.ai.evaluation.red_team import AttackStrategy\n",
    "\n",
    "# Configuration for Azure OpenAI model (with content filters applied)\n",
    "azure_openai_config_filtered = {\n",
    "    \"azure_endpoint\": os.environ.get(\"AZURE_FILTER_OPENAI_ENDPOINT\"),\n",
    "    \"azure_deployment\": os.environ.get(\"AZURE_FILTER_OPENAI_DEPLOYMENT\"),\n",
    "    \"api_key\": os.environ.get(\"AZURE_FILTER_OPENAI_KEY\"),\n",
    "}\n",
    "\n",
    "# Run the red team scan with default grouped attack strategies\n",
    "red_team_agent_result = await red_team_agent.scan(\n",
    "    target=azure_openai_config_filtered, # required\n",
    "    output_path=\"My-Filtered-RedTeam-Scan.json\", #optional, output file\n",
    "    scan_name=\"FILTERED - Scan with many strategies\", # optional, names your scan in Azure AI Foundry\n",
    "    attack_strategies=[ # optional\n",
    "        AttackStrategy.EASY, \n",
    "        AttackStrategy.MODERATE,  \n",
    "        AttackStrategy.DIFFICULT,\n",
    "    ],\n",
    ")"
   ]
  },
  {
   "cell_type": "markdown",
   "metadata": {},
   "source": [
    "## Bring your own objectives: Using your own prompts as objectives for RedTeam\n",
    "   Below we demonstrate how to use your own prompts as objectives for a `RedTeam` scan. You can see the required format for prompts under `.\\assets\\adversarial-prompts.json`. Note that when bringing your own prompts, the supported `risk-types` are `violence`, `sexual`, `hate_unfairness`, and `self_harm`. The number of prompts you specify will be the `num_objectives` used in the scan."
   ]
  },
  {
   "cell_type": "code",
   "execution_count": null,
   "metadata": {},
   "outputs": [],
   "source": [
    "path_to_prompts = \"..\\\\assets\\\\substance-abuse-prompts.json\"\n",
    "\n",
    "# Create the RedTeam specifying the custom attack seed prompts to use as objectives\n",
    "custom_red_team = RedTeam(\n",
    "    azure_ai_project=azure_ai_project,\n",
    "    credential=DefaultAzureCredential(),\n",
    "    custom_attack_seed_prompts=path_to_prompts,  # Path to a file containing custom attack seed prompts\n",
    ")\n",
    "\n",
    "custom_red_team_result = await custom_red_team.scan(\n",
    "    target=azure_openai_config,\n",
    "    scan_name=\"Custom-Prompt-Scan\",\n",
    "    attack_strategies=[\n",
    "        AttackStrategy.EASY,\n",
    "        AttackStrategy.MODERATE,  \n",
    "        AttackStrategy.DIFFICULT, \n",
    "    ],\n",
    "    output_path=\"Custom-Prompt-Scan.json\",\n",
    ")"
   ]
  },
  {
   "cell_type": "code",
   "execution_count": null,
   "metadata": {},
   "outputs": [],
   "source": []
  }
 ],
 "metadata": {
  "kernelspec": {
   "display_name": "Python 3",
   "language": "python",
   "name": "python3"
  },
  "language_info": {
   "codemirror_mode": {
    "name": "ipython",
    "version": 3
   },
   "file_extension": ".py",
   "mimetype": "text/x-python",
   "name": "python",
   "nbconvert_exporter": "python",
   "pygments_lexer": "ipython3",
   "version": "3.13.2"
  },
  "microsoft": {
   "ms_spell_check": {
    "ms_spell_check_language": "en"
   }
  },
  "nteract": {
   "version": "nteract-front-end@1.0.0"
  }
 },
 "nbformat": 4,
 "nbformat_minor": 4
}
