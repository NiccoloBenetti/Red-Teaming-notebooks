{
 "cells": [
  {
   "cell_type": "markdown",
   "id": "1630c8a9",
   "metadata": {},
   "source": [
    "# 1.2 Run Red teaming agent in the Cloud"
   ]
  },
  {
   "cell_type": "markdown",
   "id": "049e05d7",
   "metadata": {},
   "source": [
    "## Notes\n",
    "- You must use a Foundry project for this feature. A hub based project isn't supported.\n",
    "- Running the AI Red Teaming Agent in the cloud currently only supports Azure OpenAI model deployments in your Azure AI Foundry project as a target."
   ]
  },
  {
   "cell_type": "markdown",
   "id": "ab59387a",
   "metadata": {},
   "source": [
    "## Initial setup\n",
    "If this is your first time running evaluations or AI red teaming runs on your Azure AI Foundry project, you might need to do a few additional setup steps. You can find these steps in the file `/infra/CloudRedTeaming-Guide.ipynb`."
   ]
  },
  {
   "cell_type": "markdown",
   "id": "04b03ec1",
   "metadata": {},
   "source": [
    "## Load environment variables\n"
   ]
  },
  {
   "cell_type": "code",
   "execution_count": null,
   "id": "6bd84139",
   "metadata": {},
   "outputs": [],
   "source": [
    "#!az login"
   ]
  },
  {
   "cell_type": "code",
   "execution_count": null,
   "id": "3d2d80a8",
   "metadata": {},
   "outputs": [],
   "source": [
    "import os\n",
    "from dotenv import load_dotenv\n",
    "\n",
    "load_dotenv(\"../infra/credentials.env\", override=True)\n",
    "\n",
    "endpoint = os.environ[\"AZURE_PJ_PROJECT_ENDPOINT\"] \n",
    "model_endpoint = os.environ[\"AZURE_PJ_MODEL_ENDPOINT\"]\n",
    "model_api_key= os.environ[\"AZURE_PJ_MODEL_API_KEY\"]\n",
    "model_deployment_name = os.environ[\"AZURE_PJ_MODEL_NAME\"]\n",
    "\n",
    "print(\"Endpoint:\", endpoint)\n",
    "print(\"Model Endpoint:\", model_endpoint) \n",
    "print(\"Model Deployment Name:\", model_deployment_name)\n",
    "print(\"Model API Key:\", model_api_key)   "
   ]
  },
  {
   "cell_type": "markdown",
   "id": "24f2521e",
   "metadata": {},
   "source": [
    "## Create an AI red teaming run"
   ]
  },
  {
   "cell_type": "code",
   "execution_count": null,
   "id": "2d418b08",
   "metadata": {},
   "outputs": [],
   "source": [
    "from azure.identity import DefaultAzureCredential\n",
    "from azure.ai.projects import AIProjectClient\n",
    "from azure.ai.projects.models import (\n",
    "    RedTeam,\n",
    "    AzureOpenAIModelConfiguration,\n",
    "    AttackStrategy,\n",
    "    RiskCategory,\n",
    ")\n",
    "\n",
    "with AIProjectClient(\n",
    "  endpoint=endpoint,\n",
    "  credential=DefaultAzureCredential(),\n",
    ") as project_client:\n",
    "\n",
    "    # Create target configuration for testing an Azure OpenAI model\n",
    "    target_config = AzureOpenAIModelConfiguration(\n",
    "        model_deployment_name= \"RedTeaming-OpenAI/\" + model_deployment_name,\n",
    "    )\n",
    "\n",
    "    print(\"Target Configuration:\", target_config.model_deployment_name)\n",
    "\n",
    "    # Instantiate the AI Red Teaming Agent\n",
    "    red_team_agent = RedTeam(\n",
    "        attack_strategies=[AttackStrategy.BASE64],\n",
    "        risk_categories=[RiskCategory.VIOLENCE],\n",
    "        display_name=\"red-team-cloud-run\", \n",
    "        target=target_config,\n",
    "    )\n",
    "\n",
    "\n",
    "    # Create and run the red teaming scan\n",
    "    red_team_response = project_client.red_teams.create(red_team=red_team_agent,  headers={\n",
    "        \"endpoint\": endpoint,\n",
    "        \"api-version\": \"2024-12-01-preview\",   \n",
    "    },)\n"
   ]
  },
  {
   "cell_type": "markdown",
   "id": "92717e8e",
   "metadata": {},
   "source": [
    "## Get an AI red teaming run"
   ]
  },
  {
   "cell_type": "code",
   "execution_count": null,
   "id": "2490b5ca",
   "metadata": {},
   "outputs": [],
   "source": [
    "# Use the name returned by the create operation for the get call\n",
    "get_red_team_response = project_client.red_teams.get(name=red_team_response.name)\n",
    "print(f\"Red Team scan status: {get_red_team_response.status}\")"
   ]
  },
  {
   "cell_type": "markdown",
   "id": "5903120d",
   "metadata": {},
   "source": [
    "## List all AI red teaming runs"
   ]
  },
  {
   "cell_type": "code",
   "execution_count": null,
   "id": "8eeaf884",
   "metadata": {},
   "outputs": [],
   "source": [
    "for scan in project_client.red_teams.list():\n",
    "  print(f\"Found scan: {scan.name}, Status: {scan.status}\")"
   ]
  }
 ],
 "metadata": {
  "kernelspec": {
   "display_name": "Python 3",
   "language": "python",
   "name": "python3"
  },
  "language_info": {
   "codemirror_mode": {
    "name": "ipython",
    "version": 3
   },
   "file_extension": ".py",
   "mimetype": "text/x-python",
   "name": "python",
   "nbconvert_exporter": "python",
   "pygments_lexer": "ipython3",
   "version": "3.13.4"
  }
 },
 "nbformat": 4,
 "nbformat_minor": 5
}
