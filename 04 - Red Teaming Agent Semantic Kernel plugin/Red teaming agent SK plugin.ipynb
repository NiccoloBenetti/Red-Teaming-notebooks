{
 "cells": [
  {
   "cell_type": "markdown",
   "metadata": {},
   "source": [
    "# AI Red Teaming Agent\n",
    "\n",
    "This code sample enables creating an AI Red Teaming Agent using Azure AI Evaluation and Semantic Kernel."
   ]
  },
  {
   "cell_type": "markdown",
   "metadata": {},
   "source": [
    "## Overview\n",
    "\n",
    "The `template.py` script implements an AI Red Teaming Agent that can:\n",
    "\n",
    "1. Fetch harmful prompts across different [risk categories](https://learn.microsoft.com/en-us/azure/ai-foundry/concepts/ai-red-teaming-agent#supported-risk-categories)\n",
    "2. Send prompts to target generative AI models or applications\n",
    "3. Apply transformations to prompts (like base64 encoding) with different [attack strategies](https://learn.microsoft.com/en-us/azure/ai-foundry/concepts/ai-red-teaming-agent#supported-attack-strategies)\n",
    "4. Interact with your target model to evaluate its response to potentially harmful inputs"
   ]
  },
  {
   "cell_type": "markdown",
   "metadata": {},
   "source": [
    "## Prerequisites\n",
    "\n",
    "- Python 3.10+\n",
    "- An Azure subscription with access to Azure OpenAI\n",
    "- An Azure AI Project\n",
    "- Ollama (or another model service) running locally or accessible via API as your target for AI red teaming"
   ]
  },
  {
   "cell_type": "markdown",
   "metadata": {},
   "source": [
    "## Setup Instructions"
   ]
  },
  {
   "cell_type": "markdown",
   "metadata": {},
   "source": [
    "### 1. Install Required Dependencies"
   ]
  },
  {
   "cell_type": "code",
   "execution_count": null,
   "metadata": {
    "vscode": {
     "languageId": "powershell"
    }
   },
   "outputs": [],
   "source": [
    "# !pip install semantic-kernel azure-ai-evaluation[redteam] python-dotenv requests"
   ]
  },
  {
   "cell_type": "markdown",
   "metadata": {},
   "source": [
    "### 2. Environment Variables\n",
    "\n",
    "Create a `.env` file in the same directory as `template.py` with the following variables:\n",
    "\n",
    "```\n",
    "# Azure OpenAI Configuration\n",
    "AZURE_PJ_MODEL_ENDPOINT=https://your-resource-name.openai.azure.com/\n",
    "AZURE_PJ_MODEL_NAME=your-deployment-name\n",
    "AZURE_PJ_MODEL_API_KEY=your-api-key\n",
    "\n",
    "# Azure AI Project Endpoint, get it on Azure AI Froundry UI project home page\n",
    "AZURE_PJ_PROJECT_ENDPOINT=https://your-resource-name.services.ai.azure.com/api/projects/your-project-name\n",
    "```"
   ]
  },
  {
   "cell_type": "markdown",
   "metadata": {},
   "source": [
    "### 3. Configure Target Model\n",
    "\n",
    "By default, the template uses Ollama as the target model. To use Ollama:\n",
    "\n",
    "1. Make sure Ollama is installed and running on your machine\n",
    "2. Update the model name in the `call_ollama` function:"
   ]
  },
  {
   "cell_type": "code",
   "execution_count": null,
   "metadata": {
    "vscode": {
     "languageId": "powershell"
    }
   },
   "outputs": [],
   "source": [
    "payload = {\"model\": \"llama2\", \"prompt\": query, \"stream\": False}  # Replace \"llama2\" with your model"
   ]
  },
  {
   "cell_type": "markdown",
   "metadata": {},
   "source": [
    "### 4. Changing the Target Model\n",
    "\n",
    "To use a different target model instead of Ollama, modify the `call_ollama` function. For example, to use another API:"
   ]
  },
  {
   "cell_type": "code",
   "execution_count": null,
   "metadata": {
    "vscode": {
     "languageId": "powershell"
    }
   },
   "outputs": [],
   "source": [
    "def call_custom_api(query: str) -> str:\n",
    "    \"\"\"\n",
    "    Call a custom API with a prompt and return the response.\n",
    "    \"\"\"\n",
    "    url = \"https://your-api-endpoint.com/generate\"\n",
    "    headers = {\n",
    "        \"Authorization\": f\"Bearer {os.environ.get('API_KEY')}\",\n",
    "        \"Content-Type\": \"application/json\"\n",
    "    }\n",
    "    payload = {\"prompt\": query, \"max_tokens\": 300}\n",
    "\n",
    "    response = requests.post(url, headers=headers, json=payload, timeout=60)\n",
    "    try:\n",
    "        return response.json()[\"response\"]\n",
    "    except Exception as e:\n",
    "        print(f\"Error occurred: {e}\")\n",
    "        return \"error\""
   ]
  },
  {
   "cell_type": "markdown",
   "metadata": {},
   "source": [
    "Then, update the `main` function to use your new target function:"
   ]
  },
  {
   "cell_type": "code",
   "execution_count": null,
   "metadata": {
    "vscode": {
     "languageId": "powershell"
    }
   },
   "outputs": [],
   "source": [
    "# Initialize the RedTeamPlugin with the target function\n",
    "red_team_plugin = RedTeamPlugin(\n",
    "    AZURE_PJ_PROJECT_ENDPOINT=ai_project_endpoint,\n",
    "    target_func=call_custom_api  # Use your new function here\n",
    ")"
   ]
  },
  {
   "cell_type": "markdown",
   "metadata": {},
   "source": [
    "## Running the Agent\n",
    "\n",
    "Execute the script:"
   ]
  },
  {
   "cell_type": "code",
   "execution_count": null,
   "metadata": {
    "vscode": {
     "languageId": "powershell"
    }
   },
   "outputs": [],
   "source": [
    "!python template.py"
   ]
  },
  {
   "cell_type": "markdown",
   "metadata": {},
   "source": [
    "The script will:\n",
    "1. Run through predefined demonstration messages to show the agent's capabilities\n",
    "2. Enter interactive mode where you can interact with the agent directly"
   ]
  },
  {
   "cell_type": "markdown",
   "metadata": {},
   "source": [
    "## Usage Examples\n",
    "\n",
    "Here are some example commands you can use in interactive mode:\n",
    "\n",
    "- `Fetch a harmful prompt in the violence category`\n",
    "- `Fetch a harmful prompt in the harassment category`\n",
    "- `Convert [prompt] using base64_converter`\n",
    "- `Send [prompt] to my target`"
   ]
  },
  {
   "cell_type": "markdown",
   "metadata": {},
   "source": [
    "## Customizing Agent Behavior\n",
    "\n",
    "To change the agent's instructions or behavior, modify the `instructions` parameter when creating the agent:"
   ]
  },
  {
   "cell_type": "code",
   "execution_count": null,
   "metadata": {
    "vscode": {
     "languageId": "powershell"
    }
   },
   "outputs": [],
   "source": [
    "agent = ChatCompletionAgent(\n",
    "    service=service,\n",
    "    name=\"RedTeamAgent\",\n",
    "    instructions=\"Your custom instructions here...\",\n",
    "    plugins=[red_team_plugin],\n",
    ")"
   ]
  },
  {
   "cell_type": "markdown",
   "metadata": {},
   "source": [
    "## Security and Responsible Use\n",
    "\n",
    "This tool is intended for authorized red team exercises and security evaluations only. Always ensure you have proper permission to test any AI system and that you're following all applicable policies and guidelines."
   ]
  }
 ],
 "metadata": {
  "kernelspec": {
   "display_name": "Python 3",
   "language": "python",
   "name": "python3"
  },
  "language_info": {
   "codemirror_mode": {
    "name": "ipython",
    "version": 3
   },
   "file_extension": ".py",
   "mimetype": "text/x-python",
   "name": "python",
   "nbconvert_exporter": "python",
   "pygments_lexer": "ipython3",
   "version": "3.13.2"
  },
  "microsoft": {
   "ms_spell_check": {
    "ms_spell_check_language": "en"
   }
  },
  "nteract": {
   "version": "nteract-front-end@1.0.0"
  }
 },
 "nbformat": 4,
 "nbformat_minor": 4
}
